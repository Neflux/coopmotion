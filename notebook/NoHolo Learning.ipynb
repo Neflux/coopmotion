{
 "cells": [
  {
   "cell_type": "code",
   "execution_count": null,
   "metadata": {},
   "outputs": [],
   "source": [
    "import os\n",
    "from google.colab import drive\n",
    "drive.mount('/gdrive', force_remount=True)\n",
    "!unlink \"/content/coopmotion\"\n",
    "!ln -s \"/gdrive/My Drive/coopmotion/\" \"/content/coopmotion\"\n",
    "!rm -r \"/content/coopmotion/dataset (1)\" \"/content/coopmotion/dataset\" \"/content/coopmotion/models\""
   ]
  },
  {
   "cell_type": "code",
   "execution_count": 1,
   "metadata": {},
   "outputs": [],
   "source": [
    "%load_ext autoreload\n",
    "%autoreload 2\n",
    "\n",
    "import sys\n",
    "sys.path.append('../src')\n",
    "sys.path.append('coopmotion/src')\n",
    "from matplotlib import pyplot as plt\n",
    "from task.fancy import animate_with_targets, plot_trace\n",
    "import numpy as np\n",
    "import torch\n",
    "import time"
   ]
  },
  {
   "cell_type": "markdown",
   "metadata": {},
   "source": [
    "# Learning"
   ]
  },
  {
   "cell_type": "code",
   "execution_count": 7,
   "metadata": {},
   "outputs": [
    {
     "name": "stdout",
     "output_type": "stream",
     "text": [
      "(120, 4, 3) (120, 4, 2)\n",
      "[9.98907644e-01 4.98868998e-01 4.76786407e-04 5.01288281e-01] [5.01837495e-01 9.97781317e-01 4.97729626e-01 4.78981727e-04] [-1.03444479  1.09936899  1.77779186 -2.7856311 ]\n",
      "[[ 9.98907644e-01  5.01837495e-01 -1.03444479e+00]\n",
      " [ 4.98868998e-01  9.97781317e-01  1.09936899e+00]\n",
      " [ 4.76786407e-04  4.97729626e-01  1.77779186e+00]\n",
      " [ 5.01288281e-01  4.78981727e-04 -2.78563110e+00]]\n",
      "[[ 1.06883471e-03  1.54163788e-13]\n",
      " [ 1.24516270e-03 -4.88301590e-14]\n",
      " [ 1.15994854e-03 -4.04592746e-14]\n",
      " [ 6.87220931e-04 -3.01351838e-13]]\n",
      "(135, 4, 3) (135, 4, 2)\n",
      "[0.96281074 0.65939228 0.56285969 0.68275479] [0.6303096  0.77404211 0.4718244  0.2256197 ] [-1.20920234  2.46950797 -3.10903827 -2.24284195]\n",
      "[[ 0.96281074  0.6303096  -1.20920234]\n",
      " [ 0.65939228  0.77404211  2.46950797]\n",
      " [ 0.56285969  0.4718244  -3.10903827]\n",
      " [ 0.68275479  0.2256197  -2.24284195]]\n",
      "[[ 0.06775624 -0.26261433]\n",
      " [ 0.1382596  -0.89336218]\n",
      " [ 0.28178223 -0.25940312]\n",
      " [ 0.14517538 -0.02755422]]\n"
     ]
    }
   ],
   "source": [
    "from task.dataset import generate_non_sequential_dataset, generate_randomstart_dataset, central_dataset\n",
    "from task.square import static_evenly_spread_task, SegmentRun, proportional, sense_in_range\n",
    "controller = proportional\n",
    "N = 4\n",
    "number_of_samples = 1\n",
    "eps = 0.001\n",
    "task = static_evenly_spread_task(N)\n",
    "run = SegmentRun(task, controller=controller, sensor=sense_in_range(6), dt=0.1)\n",
    "train_dataset = central_dataset(generate_non_sequential_dataset(run=run, number=number_of_samples, epsilon=eps))\n",
    "test_dataset = central_dataset(generate_non_sequential_dataset(run=run, number=number_of_samples, epsilon=eps))"
   ]
  },
  {
   "cell_type": "markdown",
   "metadata": {},
   "source": [
    "## Centralized Network"
   ]
  },
  {
   "cell_type": "code",
   "execution_count": null,
   "metadata": {},
   "outputs": [],
   "source": [
    "from network import CentralizedNet, train_net\n",
    "net = CentralizedNet(4)\n",
    "training_loss, testing_loss = [], []\n",
    "train_net(epochs=500, net=net, train_dataset=train_dataset, test_dataset=test_dataset, batch_size=100, \n",
    "          training_loss=training_loss, testing_loss=testing_loss);"
   ]
  },
  {
   "cell_type": "code",
   "execution_count": null,
   "metadata": {},
   "outputs": [],
   "source": [
    "plt.title('Loss')\n",
    "plt.semilogy(training_loss, label='training')\n",
    "plt.semilogy(testing_loss, label='testing')\n",
    "plt.xlabel('epoch')\n",
    "plt.legend()\n",
    "plt.savefig('centralized_train_loss')"
   ]
  },
  {
   "cell_type": "code",
   "execution_count": null,
   "metadata": {},
   "outputs": [],
   "source": [
    "from task import Run\n",
    "from task.square import dynamic, sense_in_range\n",
    "net_controller = net.controller()\n",
    "net_run = Run(task, dynamic=dynamic(dt=0.1), sensor=run.sensor, dt=0.1, controller=net_controller)\n",
    "trace = net_run(T=10, epsilon=0.01)\n",
    "plot_trace(trace, task)"
   ]
  },
  {
   "cell_type": "code",
   "execution_count": null,
   "metadata": {},
   "outputs": [],
   "source": [
    "animate_with_targets(trace, sensor=net_run.sensor, save_to='centralized_hungarian.mp4')"
   ]
  },
  {
   "cell_type": "markdown",
   "metadata": {},
   "source": [
    "### How well are we controlling the agents?"
   ]
  },
  {
   "cell_type": "code",
   "execution_count": null,
   "metadata": {},
   "outputs": [],
   "source": [
    "from task.dataset import generate_sequential_dataset\n",
    "exact_traces = generate_sequential_dataset(run, number=100, duration=10, epsilon=0.01)\n",
    "net_traces = generate_sequential_dataset(net_run, number=100, duration=10, epsilon=0.01)\n",
    "from task import prepare\n",
    "exact_traces = [prepare(t, padding=True, steps=50) for t in exact_traces]\n",
    "net_traces = [prepare(t, padding=True, steps=50) for t in net_traces]\n",
    "time = exact_traces[0].time\n",
    "exact_error = np.array([t.error for t in exact_traces])\n",
    "net_error = np.array([t.error for t in net_traces])"
   ]
  },
  {
   "cell_type": "code",
   "execution_count": null,
   "metadata": {},
   "outputs": [],
   "source": [
    "def plot_error(time, error, **kwargs):\n",
    "    m = np.mean(error, axis=0)\n",
    "    q95 = np.quantile(error, 0.95, axis=0)\n",
    "    q5 = np.quantile(error, 0.05, axis=0)\n",
    "    label = kwargs.pop('label', '')\n",
    "    plt.plot(time, m, '-', label=label, **kwargs)\n",
    "    plt.fill_between(time, q5, q95, alpha=0.1, **kwargs)\n",
    "plot_error(time, exact_error, color='black', label='exact')\n",
    "plot_error(time, net_error, color='blue', label='net')\n",
    "plt.legend()\n",
    "plt.savefig('centralized_hungarian_error_comp')\n",
    "plt.title('Error');"
   ]
  },
  {
   "cell_type": "markdown",
   "metadata": {},
   "source": [
    "## Distributed Network"
   ]
  },
  {
   "cell_type": "code",
   "execution_count": null,
   "metadata": {},
   "outputs": [],
   "source": [
    "from task.square import SegmentRun, smart_static_evenly_spread_task, dynamic_evenly_spread_task, sense_in_range\n",
    "from task.dataset import distributed_dataset"
   ]
  },
  {
   "cell_type": "code",
   "execution_count": null,
   "metadata": {},
   "outputs": [],
   "source": [
    "N = 4\n",
    "number_of_samples = 10\n",
    "EPS = 0.001\n",
    "task = dynamic_evenly_spread_task(N)\n",
    "#generate_non_sequential_dataset(run=run, number=number_of_samples, epsilon=0.00001)\n",
    "run = SegmentRun(task, controller=controller, sensor=sense_in_range(0.7), dt=0.1)\n",
    "d_train_dataset = distributed_dataset(generate_non_sequential_dataset(run=run, number=number_of_samples, epsilon=EPS))\n",
    "d_test_dataset = distributed_dataset(generate_non_sequential_dataset(run=run, number=number_of_samples, epsilon=EPS))\n",
    "#d_train_dataset = distributed_dataset(generate_randomstart_dataset(run=run, number=number_of_samples))\n",
    "#d_test_dataset = distributed_dataset(generate_randomstart_dataset(run=run, number=number_of_samples))"
   ]
  },
  {
   "cell_type": "code",
   "execution_count": null,
   "metadata": {},
   "outputs": [],
   "source": [
    "from network import DistributedNet\n",
    "d_net = DistributedNet(run.sensor.get_input_size(N))\n",
    "d_training_loss, d_testing_loss = [], []\n",
    "train_net(epochs=500, net=d_net, train_dataset=d_train_dataset, test_dataset=d_test_dataset, batch_size=100, \n",
    "          training_loss=d_training_loss, testing_loss=d_testing_loss);"
   ]
  },
  {
   "cell_type": "code",
   "execution_count": null,
   "metadata": {},
   "outputs": [],
   "source": [
    "d_net_controller = d_net.controller()\n",
    "d_net_run = Run(task, dynamic=dynamic(dt=0.1), sensor=run.sensor, dt=0.1, controller=d_net_controller)\n",
    "trace = d_net_run(T=25, epsilon=0.01)\n",
    "plot_trace(trace, task)"
   ]
  },
  {
   "cell_type": "code",
   "execution_count": null,
   "metadata": {},
   "outputs": [],
   "source": [
    "animate_with_targets(trace, sensor=net_run.sensor)"
   ]
  },
  {
   "cell_type": "code",
   "execution_count": null,
   "metadata": {},
   "outputs": [],
   "source": [
    "d_net_traces = generate_sequential_dataset(d_net_run, number=100, duration=10, epsilon=0.01)\n",
    "d_net_traces = [prepare(t, padding=True, steps=50) for t in d_net_traces]\n",
    "d_net_error = np.array([t.error for t in d_net_traces])"
   ]
  },
  {
   "cell_type": "code",
   "execution_count": null,
   "metadata": {},
   "outputs": [],
   "source": [
    "plot_error(time, exact_error, color='black', label='exact')\n",
    "plot_error(time, net_error, color='blue', label='net')\n",
    "plot_error(time, d_net_error, color='green', label='d_net')\n",
    "plt.legend()\n",
    "plt.title('Error');"
   ]
  },
  {
   "cell_type": "markdown",
   "metadata": {},
   "source": [
    "## Distributed Communicating Network"
   ]
  },
  {
   "cell_type": "code",
   "execution_count": null,
   "metadata": {},
   "outputs": [],
   "source": [
    "from task.dataset import sequence_dataset\n",
    "from task.square import smart_static_evenly_spread_task, sense_in_range, SegmentRun, proportional, static_zipf_task"
   ]
  },
  {
   "cell_type": "code",
   "execution_count": null,
   "metadata": {},
   "outputs": [],
   "source": [
    "number_of_samples = 10\n",
    "run = SegmentRun(smart_static_evenly_spread_task(4), controller=controller, sensor=sense_in_range(0.8), dt=0.1)\n",
    "train_traces = generate_sequential_dataset(run=run, number=number_of_samples)\n",
    "test_traces = generate_sequential_dataset(run=run, number=number_of_samples)"
   ]
  },
  {
   "cell_type": "code",
   "execution_count": null,
   "metadata": {},
   "outputs": [],
   "source": []
  },
  {
   "cell_type": "code",
   "execution_count": null,
   "metadata": {},
   "outputs": [],
   "source": [
    "c_train_dataset = sequence_dataset(train_traces, steps=2)\n",
    "c_test_dataset = sequence_dataset(test_traces, steps=2)\n",
    "c_train_dataset[50]"
   ]
  },
  {
   "cell_type": "code",
   "execution_count": null,
   "metadata": {},
   "outputs": [],
   "source": [
    "from com_network import ComNet"
   ]
  },
  {
   "cell_type": "code",
   "execution_count": null,
   "metadata": {},
   "outputs": [],
   "source": [
    "c_net = ComNet(N=N, broadcast=2)\n",
    "c_training_loss, c_testing_loss = [], []"
   ]
  },
  {
   "cell_type": "code",
   "execution_count": null,
   "metadata": {},
   "outputs": [],
   "source": [
    "train_net(epochs=100, net=c_net, train_dataset=c_train_dataset, test_dataset=c_test_dataset, batch_size=100, \n",
    "          training_loss=c_training_loss, testing_loss=c_testing_loss);"
   ]
  },
  {
   "cell_type": "code",
   "execution_count": null,
   "metadata": {},
   "outputs": [],
   "source": [
    "plt.title('Loss')\n",
    "plt.semilogy(c_training_loss, label='training')\n",
    "plt.semilogy(c_testing_loss, label='testing')\n",
    "plt.xlabel('epoch')\n",
    "plt.legend()"
   ]
  },
  {
   "cell_type": "code",
   "execution_count": null,
   "metadata": {},
   "outputs": [],
   "source": [
    "c_net_controller = c_net.controller()\n",
    "c_net_run = Run(task, dynamic=dynamic(dt=0.1), sensor=run.sensor, dt=0.1, controller=c_net_controller)"
   ]
  },
  {
   "cell_type": "code",
   "execution_count": null,
   "metadata": {},
   "outputs": [],
   "source": [
    "trace = c_net_run(T=5)\n",
    "plot_trace(trace,task)"
   ]
  },
  {
   "cell_type": "code",
   "execution_count": null,
   "metadata": {},
   "outputs": [],
   "source": [
    "animate_with_targets(trace, sensor=net_run.sensor)"
   ]
  },
  {
   "cell_type": "code",
   "execution_count": null,
   "metadata": {},
   "outputs": [],
   "source": [
    "plt.plot(trace.control[:,:,0], trace.communication[:,0,:], '.')"
   ]
  },
  {
   "cell_type": "code",
   "execution_count": null,
   "metadata": {},
   "outputs": [],
   "source": [
    "c_net_traces = generate_sequential_dataset(c_net_run, number=100, duration=5, epsilon=0.01)"
   ]
  },
  {
   "cell_type": "code",
   "execution_count": null,
   "metadata": {},
   "outputs": [],
   "source": [
    "c_net_traces = [prepare(t, padding=True, steps=50) for t in c_net_traces]"
   ]
  },
  {
   "cell_type": "code",
   "execution_count": null,
   "metadata": {},
   "outputs": [],
   "source": [
    "c_net_error = np.array([t.error for t in c_net_traces])"
   ]
  },
  {
   "cell_type": "code",
   "execution_count": null,
   "metadata": {},
   "outputs": [],
   "source": [
    "plot_error(time, exact_error, color='black', label='exact')\n",
    "plot_error(time, net_error, color='blue', label='net')\n",
    "plot_error(time, d_net_error, color='green', label='d_net')\n",
    "plot_error(time, c_net_error, color='orange', label='c_net')\n",
    "plt.legend()\n",
    "plt.title('Error');"
   ]
  },
  {
   "cell_type": "code",
   "execution_count": null,
   "metadata": {},
   "outputs": [],
   "source": []
  }
 ],
 "metadata": {
  "kernelspec": {
   "display_name": "Python 3",
   "language": "python",
   "name": "python3"
  },
  "language_info": {
   "codemirror_mode": {
    "name": "ipython",
    "version": 3
   },
   "file_extension": ".py",
   "mimetype": "text/x-python",
   "name": "python",
   "nbconvert_exporter": "python",
   "pygments_lexer": "ipython3",
   "version": "3.7.3"
  },
  "pycharm": {
   "stem_cell": {
    "cell_type": "raw",
    "metadata": {
     "collapsed": false
    },
    "source": []
   }
  }
 },
 "nbformat": 4,
 "nbformat_minor": 2
}
